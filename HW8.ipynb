{
 "cells": [
  {
   "cell_type": "markdown",
   "metadata": {},
   "source": [
    "## Homework 08 \n",
    "\n",
    "**Type your name here**\n",
    "\n",
    "**DSCI 35600 - Machine Learning**\n"
   ]
  },
  {
   "cell_type": "markdown",
   "metadata": {},
   "source": [
    "## Part A: Import Packages and Load Dataset"
   ]
  },
  {
   "cell_type": "markdown",
   "metadata": {},
   "source": [
    "In the cell below, import the following packages using the standard aliases: `numpy`, `matplotlib.pyplot`, and `pandas`. Also import the following classes and functions from `sklearn`: `train_test_split`, `LogisticRegression`, `KNeighborsClassifier`, `DecisionTreeClassifier`, `VotingClassifier`, `StandardScaler`, and `OneHotEncoder`.  "
   ]
  },
  {
   "cell_type": "code",
   "execution_count": 24,
   "metadata": {
    "scrolled": true
   },
   "outputs": [],
   "source": [
    "import numpy as np\n",
    "import pandas as pd\n",
    "from matplotlib import pyplot as plt\n",
    "from sklearn.model_selection import train_test_split\n",
    "from sklearn.linear_model import LogisticRegression\n",
    "from sklearn.neighbors import KNeighborsClassifier\n",
    "from sklearn.tree import DecisionTreeClassifier\n",
    "\n",
    "from sklearn.preprocessing import OneHotEncoder\n",
    "from sklearn.preprocessing import StandardScaler\n",
    "from sklearn.ensemble import VotingClassifier"
   ]
  },
  {
   "cell_type": "markdown",
   "metadata": {},
   "source": [
    "For this assignment, you will be using census data from 1994 to attempt to predict whether or not a person has an annual salary greater than $50,000 based on other information provided in the census. You can find a description of the dataset [here](https://archive.ics.uci.edu/ml/datasets/adult).\n",
    "\n",
    "The dataset is store in the tab-separated file `census.txt`. Load the contents of this file into a dataframe called `df`, and then display the first ten rows of the dataframe. (Reminder: I recommend AGAINST ussing the `print()` function to display a DataFrame.)\n"
   ]
  },
  {
   "cell_type": "code",
   "execution_count": 3,
   "metadata": {
    "scrolled": false
   },
   "outputs": [
    {
     "data": {
      "text/html": [
       "<div>\n",
       "<style scoped>\n",
       "    .dataframe tbody tr th:only-of-type {\n",
       "        vertical-align: middle;\n",
       "    }\n",
       "\n",
       "    .dataframe tbody tr th {\n",
       "        vertical-align: top;\n",
       "    }\n",
       "\n",
       "    .dataframe thead th {\n",
       "        text-align: right;\n",
       "    }\n",
       "</style>\n",
       "<table border=\"1\" class=\"dataframe\">\n",
       "  <thead>\n",
       "    <tr style=\"text-align: right;\">\n",
       "      <th></th>\n",
       "      <th>age</th>\n",
       "      <th>workclass</th>\n",
       "      <th>fnlwgt</th>\n",
       "      <th>education</th>\n",
       "      <th>educ_num</th>\n",
       "      <th>marital_status</th>\n",
       "      <th>occupation</th>\n",
       "      <th>relationship</th>\n",
       "      <th>race</th>\n",
       "      <th>sex</th>\n",
       "      <th>capital_gain</th>\n",
       "      <th>capital_loss</th>\n",
       "      <th>hrs_per_week</th>\n",
       "      <th>native_country</th>\n",
       "      <th>salary</th>\n",
       "    </tr>\n",
       "  </thead>\n",
       "  <tbody>\n",
       "    <tr>\n",
       "      <th>0</th>\n",
       "      <td>39</td>\n",
       "      <td>State-gov</td>\n",
       "      <td>77516</td>\n",
       "      <td>Bachelors</td>\n",
       "      <td>13</td>\n",
       "      <td>Never-married</td>\n",
       "      <td>Adm-clerical</td>\n",
       "      <td>Not-in-family</td>\n",
       "      <td>White</td>\n",
       "      <td>Male</td>\n",
       "      <td>2174</td>\n",
       "      <td>0</td>\n",
       "      <td>40</td>\n",
       "      <td>United-States</td>\n",
       "      <td>&lt;=50K</td>\n",
       "    </tr>\n",
       "    <tr>\n",
       "      <th>1</th>\n",
       "      <td>50</td>\n",
       "      <td>Self-emp-not-inc</td>\n",
       "      <td>83311</td>\n",
       "      <td>Bachelors</td>\n",
       "      <td>13</td>\n",
       "      <td>Married-civ-spouse</td>\n",
       "      <td>Exec-managerial</td>\n",
       "      <td>Husband</td>\n",
       "      <td>White</td>\n",
       "      <td>Male</td>\n",
       "      <td>0</td>\n",
       "      <td>0</td>\n",
       "      <td>13</td>\n",
       "      <td>United-States</td>\n",
       "      <td>&lt;=50K</td>\n",
       "    </tr>\n",
       "    <tr>\n",
       "      <th>2</th>\n",
       "      <td>38</td>\n",
       "      <td>Private</td>\n",
       "      <td>215646</td>\n",
       "      <td>HS-grad</td>\n",
       "      <td>9</td>\n",
       "      <td>Divorced</td>\n",
       "      <td>Handlers-cleaners</td>\n",
       "      <td>Not-in-family</td>\n",
       "      <td>White</td>\n",
       "      <td>Male</td>\n",
       "      <td>0</td>\n",
       "      <td>0</td>\n",
       "      <td>40</td>\n",
       "      <td>United-States</td>\n",
       "      <td>&lt;=50K</td>\n",
       "    </tr>\n",
       "    <tr>\n",
       "      <th>3</th>\n",
       "      <td>53</td>\n",
       "      <td>Private</td>\n",
       "      <td>234721</td>\n",
       "      <td>11th</td>\n",
       "      <td>7</td>\n",
       "      <td>Married-civ-spouse</td>\n",
       "      <td>Handlers-cleaners</td>\n",
       "      <td>Husband</td>\n",
       "      <td>Black</td>\n",
       "      <td>Male</td>\n",
       "      <td>0</td>\n",
       "      <td>0</td>\n",
       "      <td>40</td>\n",
       "      <td>United-States</td>\n",
       "      <td>&lt;=50K</td>\n",
       "    </tr>\n",
       "    <tr>\n",
       "      <th>4</th>\n",
       "      <td>28</td>\n",
       "      <td>Private</td>\n",
       "      <td>338409</td>\n",
       "      <td>Bachelors</td>\n",
       "      <td>13</td>\n",
       "      <td>Married-civ-spouse</td>\n",
       "      <td>Prof-specialty</td>\n",
       "      <td>Wife</td>\n",
       "      <td>Black</td>\n",
       "      <td>Female</td>\n",
       "      <td>0</td>\n",
       "      <td>0</td>\n",
       "      <td>40</td>\n",
       "      <td>Cuba</td>\n",
       "      <td>&lt;=50K</td>\n",
       "    </tr>\n",
       "    <tr>\n",
       "      <th>5</th>\n",
       "      <td>37</td>\n",
       "      <td>Private</td>\n",
       "      <td>284582</td>\n",
       "      <td>Masters</td>\n",
       "      <td>14</td>\n",
       "      <td>Married-civ-spouse</td>\n",
       "      <td>Exec-managerial</td>\n",
       "      <td>Wife</td>\n",
       "      <td>White</td>\n",
       "      <td>Female</td>\n",
       "      <td>0</td>\n",
       "      <td>0</td>\n",
       "      <td>40</td>\n",
       "      <td>United-States</td>\n",
       "      <td>&lt;=50K</td>\n",
       "    </tr>\n",
       "    <tr>\n",
       "      <th>6</th>\n",
       "      <td>49</td>\n",
       "      <td>Private</td>\n",
       "      <td>160187</td>\n",
       "      <td>9th</td>\n",
       "      <td>5</td>\n",
       "      <td>Married-spouse-absent</td>\n",
       "      <td>Other-service</td>\n",
       "      <td>Not-in-family</td>\n",
       "      <td>Black</td>\n",
       "      <td>Female</td>\n",
       "      <td>0</td>\n",
       "      <td>0</td>\n",
       "      <td>16</td>\n",
       "      <td>Jamaica</td>\n",
       "      <td>&lt;=50K</td>\n",
       "    </tr>\n",
       "    <tr>\n",
       "      <th>7</th>\n",
       "      <td>52</td>\n",
       "      <td>Self-emp-not-inc</td>\n",
       "      <td>209642</td>\n",
       "      <td>HS-grad</td>\n",
       "      <td>9</td>\n",
       "      <td>Married-civ-spouse</td>\n",
       "      <td>Exec-managerial</td>\n",
       "      <td>Husband</td>\n",
       "      <td>White</td>\n",
       "      <td>Male</td>\n",
       "      <td>0</td>\n",
       "      <td>0</td>\n",
       "      <td>45</td>\n",
       "      <td>United-States</td>\n",
       "      <td>&gt;50K</td>\n",
       "    </tr>\n",
       "    <tr>\n",
       "      <th>8</th>\n",
       "      <td>31</td>\n",
       "      <td>Private</td>\n",
       "      <td>45781</td>\n",
       "      <td>Masters</td>\n",
       "      <td>14</td>\n",
       "      <td>Never-married</td>\n",
       "      <td>Prof-specialty</td>\n",
       "      <td>Not-in-family</td>\n",
       "      <td>White</td>\n",
       "      <td>Female</td>\n",
       "      <td>14084</td>\n",
       "      <td>0</td>\n",
       "      <td>50</td>\n",
       "      <td>United-States</td>\n",
       "      <td>&gt;50K</td>\n",
       "    </tr>\n",
       "    <tr>\n",
       "      <th>9</th>\n",
       "      <td>42</td>\n",
       "      <td>Private</td>\n",
       "      <td>159449</td>\n",
       "      <td>Bachelors</td>\n",
       "      <td>13</td>\n",
       "      <td>Married-civ-spouse</td>\n",
       "      <td>Exec-managerial</td>\n",
       "      <td>Husband</td>\n",
       "      <td>White</td>\n",
       "      <td>Male</td>\n",
       "      <td>5178</td>\n",
       "      <td>0</td>\n",
       "      <td>40</td>\n",
       "      <td>United-States</td>\n",
       "      <td>&gt;50K</td>\n",
       "    </tr>\n",
       "  </tbody>\n",
       "</table>\n",
       "</div>"
      ],
      "text/plain": [
       "   age          workclass  fnlwgt   education  educ_num  \\\n",
       "0   39          State-gov   77516   Bachelors        13   \n",
       "1   50   Self-emp-not-inc   83311   Bachelors        13   \n",
       "2   38            Private  215646     HS-grad         9   \n",
       "3   53            Private  234721        11th         7   \n",
       "4   28            Private  338409   Bachelors        13   \n",
       "5   37            Private  284582     Masters        14   \n",
       "6   49            Private  160187         9th         5   \n",
       "7   52   Self-emp-not-inc  209642     HS-grad         9   \n",
       "8   31            Private   45781     Masters        14   \n",
       "9   42            Private  159449   Bachelors        13   \n",
       "\n",
       "           marital_status          occupation    relationship    race  \\\n",
       "0           Never-married        Adm-clerical   Not-in-family   White   \n",
       "1      Married-civ-spouse     Exec-managerial         Husband   White   \n",
       "2                Divorced   Handlers-cleaners   Not-in-family   White   \n",
       "3      Married-civ-spouse   Handlers-cleaners         Husband   Black   \n",
       "4      Married-civ-spouse      Prof-specialty            Wife   Black   \n",
       "5      Married-civ-spouse     Exec-managerial            Wife   White   \n",
       "6   Married-spouse-absent       Other-service   Not-in-family   Black   \n",
       "7      Married-civ-spouse     Exec-managerial         Husband   White   \n",
       "8           Never-married      Prof-specialty   Not-in-family   White   \n",
       "9      Married-civ-spouse     Exec-managerial         Husband   White   \n",
       "\n",
       "       sex  capital_gain  capital_loss  hrs_per_week  native_country  salary  \n",
       "0     Male          2174             0            40   United-States   <=50K  \n",
       "1     Male             0             0            13   United-States   <=50K  \n",
       "2     Male             0             0            40   United-States   <=50K  \n",
       "3     Male             0             0            40   United-States   <=50K  \n",
       "4   Female             0             0            40            Cuba   <=50K  \n",
       "5   Female             0             0            40   United-States   <=50K  \n",
       "6   Female             0             0            16         Jamaica   <=50K  \n",
       "7     Male             0             0            45   United-States    >50K  \n",
       "8   Female         14084             0            50   United-States    >50K  \n",
       "9     Male          5178             0            40   United-States    >50K  "
      ]
     },
     "execution_count": 3,
     "metadata": {},
     "output_type": "execute_result"
    }
   ],
   "source": [
    "df = pd.read_csv('census.txt', sep='\\t')\n",
    "df.head(10)"
   ]
  },
  {
   "cell_type": "markdown",
   "metadata": {},
   "source": [
    "## Part B: Preparing the Data"
   ]
  },
  {
   "cell_type": "markdown",
   "metadata": {},
   "source": [
    "In the cell below, create a list called `cat_idx` that stores the indices of the columns in `df` that correspond to categorical variables. Create a list called `num_idx` that stores the indices of the columns in `df` that correspond to numerical variables. (Simply hard-code these lists.)\n",
    "\n",
    "Then use these lists to create arrays `Xcat` and `Xnum`. Also create an array of labels called `y`. Print the shapes of these three arrays."
   ]
  },
  {
   "cell_type": "code",
   "execution_count": 4,
   "metadata": {},
   "outputs": [
    {
     "name": "stdout",
     "output_type": "stream",
     "text": [
      "(32561, 6)\n",
      "(32561, 8)\n",
      "(32561,)\n"
     ]
    }
   ],
   "source": [
    "cat_idx = [1,3,5,6,7,8,9,13] \n",
    "num_idx = [0,2,4,10,11,12]\n",
    "y = df.iloc[:, 14].values \n",
    "Xcat = df.iloc[:,cat_idx].values \n",
    "Xnum = df.iloc[:, num_idx].values.astype('str')\n",
    "print(Xnum.shape)\n",
    "print(Xcat.shape)\n",
    "print(y.shape)"
   ]
  },
  {
   "cell_type": "markdown",
   "metadata": {},
   "source": [
    "#### Numerical Features\n",
    "Split `Xnum` into training and validation sets called `Xnum_train` and `Xnum_val`. Use an 80/20 split, and set `random_state=1`. Print the shapes of the resulting training and validation arrays."
   ]
  },
  {
   "cell_type": "code",
   "execution_count": 5,
   "metadata": {},
   "outputs": [
    {
     "name": "stdout",
     "output_type": "stream",
     "text": [
      "(26048, 6)\n",
      "(6513, 6)\n",
      "(26048,)\n",
      "(6513,)\n"
     ]
    }
   ],
   "source": [
    "Xnum_train, Xnum_val, y_train, y_val = train_test_split (Xnum, y, test_size = 0.2, random_state=1)\n",
    "print(Xnum_train.shape)\n",
    "print(Xnum_val.shape)\n",
    "print(y_train.shape)\n",
    "print(y_val.shape)\n"
   ]
  },
  {
   "cell_type": "markdown",
   "metadata": {},
   "source": [
    "Use the `StandardScaler` class to scale the numerical data. Name the resulting arrays `Xsca_train` and `Xsca_val`. Print the shape of these arrays. "
   ]
  },
  {
   "cell_type": "code",
   "execution_count": 6,
   "metadata": {},
   "outputs": [
    {
     "name": "stdout",
     "output_type": "stream",
     "text": [
      "(26048, 6)\n",
      "(6513, 6)\n"
     ]
    }
   ],
   "source": [
    "scaler = StandardScaler()\n",
    "scaler.fit(Xnum_train)\n",
    "\n",
    "Xsca_train = scaler.transform(Xnum_train)\n",
    "Xsca_val = scaler.transform(Xnum_val)\n",
    "\n",
    "print(Xsca_train.shape)\n",
    "print(Xsca_val.shape)"
   ]
  },
  {
   "cell_type": "markdown",
   "metadata": {},
   "source": [
    "#### Categorical Features\n",
    "\n",
    "Use the `OneHotEncoder` class to encode the categorical feature array (setting `sparse=False`). Store the results in an array called `Xenc`. Print the shape of this array. "
   ]
  },
  {
   "cell_type": "code",
   "execution_count": 7,
   "metadata": {},
   "outputs": [
    {
     "name": "stdout",
     "output_type": "stream",
     "text": [
      "(32561, 102)\n"
     ]
    }
   ],
   "source": [
    "encoder = OneHotEncoder(sparse=False)\n",
    "encoder.fit(Xcat)\n",
    "Xenc = encoder.transform(Xcat)\n",
    "print(Xenc.shape)\n"
   ]
  },
  {
   "cell_type": "markdown",
   "metadata": {},
   "source": [
    "Split `Xenc` into training and validation sets called `Xenc_train` and `Xenc_val`. Use an 80/20 split, and set `random_state=1`. Print the shapes of the resulting training and validation arrays."
   ]
  },
  {
   "cell_type": "code",
   "execution_count": 8,
   "metadata": {},
   "outputs": [
    {
     "name": "stdout",
     "output_type": "stream",
     "text": [
      "(26048, 102)\n",
      "(6513, 102)\n"
     ]
    }
   ],
   "source": [
    "Xenc_train, Xenc_val, y_train, y_val = train_test_split(Xenc, y, test_size = 0.2, random_state=1)\n",
    "\n",
    "print(Xenc_train.shape)\n",
    "print(Xenc_val.shape)"
   ]
  },
  {
   "cell_type": "markdown",
   "metadata": {},
   "source": [
    "#### Combine Numerical and Categorial Features\n",
    "\n",
    "Use `np.hstack()` to combine `Xsca_train` and `Xenc_train` into an array called `X_train`. Then combine `Xsca_val` and `Xenc_val` into an array called `X_val`. Print the shapes of the two new arrays."
   ]
  },
  {
   "cell_type": "code",
   "execution_count": 9,
   "metadata": {},
   "outputs": [
    {
     "name": "stdout",
     "output_type": "stream",
     "text": [
      "(26048, 108)\n",
      "(6513, 108)\n"
     ]
    }
   ],
   "source": [
    "X_train = np.hstack([Xsca_train, Xenc_train])\n",
    "X_val = np.hstack([Xsca_val, Xenc_val])\n",
    "\n",
    "print(X_train.shape)\n",
    "print(X_val.shape)\n"
   ]
  },
  {
   "cell_type": "markdown",
   "metadata": {},
   "source": [
    "# Part C: Logistic Regression Model"
   ]
  },
  {
   "cell_type": "markdown",
   "metadata": {},
   "source": [
    "In the cell below, create and fit several logistic regression models, each with a different value for the regularization parameter `C`. In particular, consider 20 models with `C=10**k`, where `k` ranges from -3 to 3. For each model, log the training and validation accuracies in seperate lists, and then plot these lists against `k`. Label your axes, and display a legend for your plot. \n",
    "\n",
    "Tip: To avoid seeing warning messages, set `solver='lbfgs'` and `max_iter=1000` when creating your logistic regression models. "
   ]
  },
  {
   "cell_type": "code",
   "execution_count": 10,
   "metadata": {},
   "outputs": [
    {
     "data": {
      "image/png": "[encoded data removed]",
      "text/plain": [
       "<Figure size 432x288 with 1 Axes>"
      ]
     },
     "metadata": {
      "needs_background": "light"
     },
     "output_type": "display_data"
    }
   ],
   "source": [
    "tr_acc = []\n",
    "va_acc = []\n",
    "exp_list = np.linspace(-3, 3, 20)\n",
    "\n",
    "for k in exp_list:\n",
    "    temp_mod = LogisticRegression(solver='lbfgs', C=10**k, multi_class='ovr', max_iter = 1000)\n",
    "    temp_mod.fit(X_train, y_train)\n",
    "    tr_acc.append(temp_mod.score(X_train, y_train))\n",
    "    va_acc.append(temp_mod.score(X_val, y_val))\n",
    "    \n",
    "plt.figure(figsize=([6,4]))\n",
    "plt.plot(exp_list, tr_acc, label='Training Accuracy')\n",
    "plt.plot(exp_list, va_acc, label='Validation Accuracy')\n",
    "plt.xlabel('log(C)')\n",
    "plt.ylabel('Accuracy')\n",
    "plt.legend()\n",
    "plt.show()"
   ]
  },
  {
   "cell_type": "markdown",
   "metadata": {},
   "source": [
    "Use `np.argmax` to find the value of `k` that results in the largest validation accuracy. Print this result. "
   ]
  },
  {
   "cell_type": "code",
   "execution_count": 11,
   "metadata": {},
   "outputs": [
    {
     "name": "stdout",
     "output_type": "stream",
     "text": [
      "-0.7894736842105265\n"
     ]
    }
   ],
   "source": [
    "idx = np.argmax(va_acc)\n",
    "best_logC = exp_list[idx]\n",
    "print(best_logC)"
   ]
  },
  {
   "cell_type": "markdown",
   "metadata": {},
   "source": [
    "Create a logistic regression model using the previously determined value for the regularization parameter. Print the training and validation accuracies for this model, clearly indicating which is which."
   ]
  },
  {
   "cell_type": "code",
   "execution_count": 13,
   "metadata": {},
   "outputs": [
    {
     "name": "stdout",
     "output_type": "stream",
     "text": [
      "Training Accuracy:   0.8530789312039312\n",
      "Validation Accuracy: 0.8529095654844158\n"
     ]
    }
   ],
   "source": [
    "mod_1 = LogisticRegression(solver='lbfgs', C=10**best_logC, multi_class='ovr', max_iter = 1000)\n",
    "mod_1.fit(X_train, y_train)\n",
    "\n",
    "print('Training Accuracy:  ', mod_1.score(X_train, y_train))\n",
    "print('Validation Accuracy:', mod_1.score(X_val, y_val))"
   ]
  },
  {
   "cell_type": "markdown",
   "metadata": {},
   "source": [
    "## Part D: K-Nearest Neighbors Model"
   ]
  },
  {
   "cell_type": "markdown",
   "metadata": {},
   "source": [
    "In the cell below, create and fit several KNN models, each with a different value of `K`. In particular, consider 10 models with values of `K` ranging from 1 to 30. For each model, log the validation accuracy (but NOT the training accuracy) in a list, and then plot these lists against `k`. Label your axes, and display a legend for your plot. \n",
    "\n",
    "Note: This could take a while to run. It took around 10 minutes on my computer. Grab a coffee.  "
   ]
  },
  {
   "cell_type": "code",
   "execution_count": 15,
   "metadata": {},
   "outputs": [
    {
     "data": {
      "image/png": "[encoded data removed]",
      "text/plain": [
       "<Figure size 432x288 with 1 Axes>"
      ]
     },
     "metadata": {
      "needs_background": "light"
     },
     "output_type": "display_data"
    },
    {
     "name": "stdout",
     "output_type": "stream",
     "text": [
      "Wall time: 4min 40s\n"
     ]
    }
   ],
   "source": [
    "%%time \n",
    "tr_acc = []\n",
    "va_acc = []\n",
    "\n",
    "k_range = range(1, 30, 10)\n",
    "\n",
    "for k in k_range:\n",
    "    knn_model = KNeighborsClassifier(k)\n",
    "    knn_model.fit(X_train, y_train)\n",
    "\n",
    "    tr_acc.append(knn_model.score(X_train, y_train))\n",
    "    va_acc.append(knn_model.score(X_val, y_val))\n",
    "    \n",
    "plt.figure(figsize=([6,4]))\n",
    "plt.plot(k_range, tr_acc, label='Training Accuracy')\n",
    "plt.plot(k_range, va_acc, label='Validation Accuracy')\n",
    "plt.xlabel('K')\n",
    "plt.ylabel('Accuracy')\n",
    "plt.legend('KNN model, finding best K')\n",
    "plt.show()"
   ]
  },
  {
   "cell_type": "markdown",
   "metadata": {},
   "source": [
    "Use `np.argmax` to find the value of `K` that results in the largest validation accuracy. Print this result. "
   ]
  },
  {
   "cell_type": "code",
   "execution_count": 17,
   "metadata": {},
   "outputs": [
    {
     "name": "stdout",
     "output_type": "stream",
     "text": [
      "21\n"
     ]
    }
   ],
   "source": [
    "idx = np.argmax(va_acc)\n",
    "best_knn = k_range[idx]\n",
    "print(best_knn)"
   ]
  },
  {
   "cell_type": "markdown",
   "metadata": {},
   "source": [
    "Create a KNN model using the previously determined value of `K`. Print the training and validation accuracies for this model, clearly indicating which is which."
   ]
  },
  {
   "cell_type": "code",
   "execution_count": 19,
   "metadata": {},
   "outputs": [
    {
     "name": "stdout",
     "output_type": "stream",
     "text": [
      "Training Accuracy:   0.855612714987715\n",
      "Validation Accuracy: 0.844925533548288\n"
     ]
    }
   ],
   "source": [
    "np.random.seed(1)\n",
    "mod_2 = KNeighborsClassifier(best_knn)\n",
    "mod_2.fit(X_train, y_train)\n",
    "\n",
    "print('Training Accuracy:  ', mod_2.score(X_train, y_train))\n",
    "print('Validation Accuracy:', mod_2.score(X_val, y_val))"
   ]
  },
  {
   "cell_type": "markdown",
   "metadata": {},
   "source": [
    "## Part E: Decision Tree Model"
   ]
  },
  {
   "cell_type": "markdown",
   "metadata": {},
   "source": [
    "In the cell below, create and fit several decision tree models, each with a different value for the `max_depth` parameter. In particular, consider models for every value of max_dept from 1 to 30. For each model, log the training and validation accuracies in seperate lists, and then plot these lists against the max depth. Label your axes, and display a legend for your plot. \n",
    "\n",
    "Set a seed of 1 at the beginning of this cell."
   ]
  },
  {
   "cell_type": "code",
   "execution_count": 20,
   "metadata": {},
   "outputs": [
    {
     "data": {
      "image/png": "[encoded data removed]",
      "text/plain": [
       "<Figure size 432x288 with 1 Axes>"
      ]
     },
     "metadata": {
      "needs_background": "light"
     },
     "output_type": "display_data"
    }
   ],
   "source": [
    "tr_acc = []\n",
    "va_acc = []\n",
    "depth_list = range(1,30)\n",
    "\n",
    "np.random.seed(1)\n",
    "for d in depth_list:\n",
    "    np.random.seed(1)\n",
    "    temp_mod = DecisionTreeClassifier(max_depth=d)\n",
    "    temp_mod.fit(X_train, y_train)\n",
    "    tr_acc.append(temp_mod.score(X_train, y_train))\n",
    "    va_acc.append(temp_mod.score(X_val, y_val))\n",
    "    \n",
    "plt.figure(figsize=([6,4]))\n",
    "plt.plot(depth_list, tr_acc, label='Training Accuracy')\n",
    "plt.plot(depth_list, va_acc, label='Validation Accuracy')\n",
    "plt.xlabel('Max Depth')\n",
    "plt.ylabel('Accuracy')\n",
    "plt.legend()\n",
    "plt.show()"
   ]
  },
  {
   "cell_type": "markdown",
   "metadata": {},
   "source": [
    "Use `np.argmax` to find the value of `max_depth` that results in the largest validation accuracy. Print this result. "
   ]
  },
  {
   "cell_type": "code",
   "execution_count": 21,
   "metadata": {},
   "outputs": [
    {
     "name": "stdout",
     "output_type": "stream",
     "text": [
      "10\n"
     ]
    }
   ],
   "source": [
    "idx = np.argmax(va_acc)\n",
    "best_d = depth_list[idx]\n",
    "print(best_d)"
   ]
  },
  {
   "cell_type": "markdown",
   "metadata": {},
   "source": [
    "Create a tree model using the previously determined value of `max_depth`. Print the training and validation accuracies for this model, clearly indicating which is which.\n",
    "\n",
    "Set a seed of 1 at the beginning of this cell."
   ]
  },
  {
   "cell_type": "code",
   "execution_count": 22,
   "metadata": {},
   "outputs": [
    {
     "name": "stdout",
     "output_type": "stream",
     "text": [
      "Training Accuracy:   0.8695485257985258\n",
      "Validation Accuracy: 0.8615077537233226\n"
     ]
    }
   ],
   "source": [
    "np.random.seed(1)\n",
    "mod_3 = DecisionTreeClassifier(max_depth=best_d)\n",
    "mod_3.fit(X_train, y_train)\n",
    "\n",
    "print('Training Accuracy:  ', mod_3.score(X_train, y_train))\n",
    "print('Validation Accuracy:', mod_3.score(X_val, y_val))"
   ]
  },
  {
   "cell_type": "markdown",
   "metadata": {},
   "source": [
    "## Part F: Voting Classifier"
   ]
  },
  {
   "cell_type": "markdown",
   "metadata": {},
   "source": [
    "Use `VotingClassifier` to create an ensemble of the three models that you previously created. Fit this ensemble model, and then print the training and validation accuracies, clearly indicating which is which.\n",
    "\n",
    "Set a seed of 1 at the beginning of this cell."
   ]
  },
  {
   "cell_type": "code",
   "execution_count": 26,
   "metadata": {},
   "outputs": [
    {
     "name": "stdout",
     "output_type": "stream",
     "text": [
      "Training Accuracy:   0.8690494471744472\n",
      "Validation Accuracy: 0.8627360663288807\n"
     ]
    }
   ],
   "source": [
    "np.random.seed(1)\n",
    "voting_clf = VotingClassifier(\n",
    "    estimators = [('lr', mod_1), ('knn', mod_2), ('tree', mod_3)],\n",
    "    voting = 'soft')\n",
    "\n",
    "voting_clf.fit(X_train, y_train)\n",
    "\n",
    "print('Training Accuracy:  ', voting_clf.score(X_train, y_train))\n",
    "print('Validation Accuracy:', voting_clf.score(X_val, y_val))"
   ]
  },
  {
   "cell_type": "markdown",
   "metadata": {},
   "source": [
    "## Part G: Summary\n",
    "\n",
    "Print the validation accuracies for each of the four models, clearly indicating which is which. "
   ]
  },
  {
   "cell_type": "code",
   "execution_count": 33,
   "metadata": {},
   "outputs": [
    {
     "name": "stdout",
     "output_type": "stream",
     "text": [
      "Validation Accuracy for the Logistic Regression Model:  0.8529095654844158\n",
      "Validation Accuracy for the K-Nearest Neighbors Model:  0.844925533548288\n",
      "Validation Accuracy for the Decision Tree Model:  0.8615077537233226\n",
      "Validation Accuracy for the Voting Classifier:  0.8627360663288807\n"
     ]
    }
   ],
   "source": [
    "print('Validation Accuracy for the Logistic Regression Model: ', mod_1.score(X_val,y_val))\n",
    "print('Validation Accuracy for the K-Nearest Neighbors Model: ',  mod_2.score(X_val,y_val))\n",
    "print('Validation Accuracy for the Decision Tree Model: ',  mod_3.score(X_val,y_val))\n",
    "print('Validation Accuracy for the Voting Classifier: ',  voting_clf.score(X_val,y_val))"
   ]
  }
 ],
 "metadata": {
  "kernelspec": {
   "display_name": "Python 3",
   "language": "python",
   "name": "python3"
  },
  "language_info": {
   "codemirror_mode": {
    "name": "ipython",
    "version": 3
   },
   "file_extension": ".py",
   "mimetype": "text/x-python",
   "name": "python",
   "nbconvert_exporter": "python",
   "pygments_lexer": "ipython3",
   "version": "3.8.5"
  }
 },
 "nbformat": 4,
 "nbformat_minor": 2
}
